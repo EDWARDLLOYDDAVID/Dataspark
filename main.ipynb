{
 "cells": [
  {
   "cell_type": "code",
   "execution_count": 1,
   "metadata": {},
   "outputs": [],
   "source": [
    "import pandas as pd\n",
    "                    \n",
    "sales = pd.read_csv('C:/Users/ANNIE CHRISTINA G/Desktop/data spark/dataset/Sales.csv')\n",
    "customer = pd.read_csv('C:/Users/ANNIE CHRISTINA G/Desktop/data spark/dataset/Customers.csv', encoding='latin1')\n",
    "# customer = pd.read_csv('C:/Users/ANNIE CHRISTINA G/Desktop/data spark/dataset/Customers.csv', encoding='iso-8859-1')\n",
    "# or\n",
    "# customer = pd.read_csv('C:/Users/ANNIE CHRISTINA G/Desktop/data spark/dataset/Customers.csv', encoding='cp1252')\n",
    "store = pd.read_csv('C:/Users/ANNIE CHRISTINA G/Desktop/data spark/dataset/Stores.csv')\n",
    "product = pd.read_csv('C:/Users/ANNIE CHRISTINA G/Desktop/data spark/dataset/Products.csv')\n",
    "exra = pd.read_csv('C:/Users/ANNIE CHRISTINA G/Desktop/data spark/dataset/Exchange_Rates.csv')\n"
   ]
  },
  {
   "cell_type": "code",
   "execution_count": 2,
   "metadata": {},
   "outputs": [
    {
     "data": {
      "text/html": [
       "<div>\n",
       "<style scoped>\n",
       "    .dataframe tbody tr th:only-of-type {\n",
       "        vertical-align: middle;\n",
       "    }\n",
       "\n",
       "    .dataframe tbody tr th {\n",
       "        vertical-align: top;\n",
       "    }\n",
       "\n",
       "    .dataframe thead th {\n",
       "        text-align: right;\n",
       "    }\n",
       "</style>\n",
       "<table border=\"1\" class=\"dataframe\">\n",
       "  <thead>\n",
       "    <tr style=\"text-align: right;\">\n",
       "      <th></th>\n",
       "      <th>Order Number</th>\n",
       "      <th>Line Item</th>\n",
       "      <th>Order Date</th>\n",
       "      <th>Delivery Date</th>\n",
       "      <th>CustomerKey</th>\n",
       "      <th>StoreKey</th>\n",
       "      <th>ProductKey</th>\n",
       "      <th>Quantity</th>\n",
       "      <th>Currency Code</th>\n",
       "    </tr>\n",
       "  </thead>\n",
       "  <tbody>\n",
       "    <tr>\n",
       "      <th>0</th>\n",
       "      <td>366000</td>\n",
       "      <td>1</td>\n",
       "      <td>1/1/2016</td>\n",
       "      <td>NaN</td>\n",
       "      <td>265598</td>\n",
       "      <td>10</td>\n",
       "      <td>1304</td>\n",
       "      <td>1</td>\n",
       "      <td>CAD</td>\n",
       "    </tr>\n",
       "    <tr>\n",
       "      <th>1</th>\n",
       "      <td>366001</td>\n",
       "      <td>1</td>\n",
       "      <td>1/1/2016</td>\n",
       "      <td>1/13/2016</td>\n",
       "      <td>1269051</td>\n",
       "      <td>0</td>\n",
       "      <td>1048</td>\n",
       "      <td>2</td>\n",
       "      <td>USD</td>\n",
       "    </tr>\n",
       "    <tr>\n",
       "      <th>2</th>\n",
       "      <td>366001</td>\n",
       "      <td>2</td>\n",
       "      <td>1/1/2016</td>\n",
       "      <td>1/13/2016</td>\n",
       "      <td>1269051</td>\n",
       "      <td>0</td>\n",
       "      <td>2007</td>\n",
       "      <td>1</td>\n",
       "      <td>USD</td>\n",
       "    </tr>\n",
       "    <tr>\n",
       "      <th>3</th>\n",
       "      <td>366002</td>\n",
       "      <td>1</td>\n",
       "      <td>1/1/2016</td>\n",
       "      <td>1/12/2016</td>\n",
       "      <td>266019</td>\n",
       "      <td>0</td>\n",
       "      <td>1106</td>\n",
       "      <td>7</td>\n",
       "      <td>CAD</td>\n",
       "    </tr>\n",
       "    <tr>\n",
       "      <th>4</th>\n",
       "      <td>366002</td>\n",
       "      <td>2</td>\n",
       "      <td>1/1/2016</td>\n",
       "      <td>1/12/2016</td>\n",
       "      <td>266019</td>\n",
       "      <td>0</td>\n",
       "      <td>373</td>\n",
       "      <td>1</td>\n",
       "      <td>CAD</td>\n",
       "    </tr>\n",
       "    <tr>\n",
       "      <th>...</th>\n",
       "      <td>...</td>\n",
       "      <td>...</td>\n",
       "      <td>...</td>\n",
       "      <td>...</td>\n",
       "      <td>...</td>\n",
       "      <td>...</td>\n",
       "      <td>...</td>\n",
       "      <td>...</td>\n",
       "      <td>...</td>\n",
       "    </tr>\n",
       "    <tr>\n",
       "      <th>62879</th>\n",
       "      <td>2243030</td>\n",
       "      <td>1</td>\n",
       "      <td>2/20/2021</td>\n",
       "      <td>NaN</td>\n",
       "      <td>1216913</td>\n",
       "      <td>43</td>\n",
       "      <td>632</td>\n",
       "      <td>3</td>\n",
       "      <td>USD</td>\n",
       "    </tr>\n",
       "    <tr>\n",
       "      <th>62880</th>\n",
       "      <td>2243031</td>\n",
       "      <td>1</td>\n",
       "      <td>2/20/2021</td>\n",
       "      <td>2/24/2021</td>\n",
       "      <td>511229</td>\n",
       "      <td>0</td>\n",
       "      <td>98</td>\n",
       "      <td>4</td>\n",
       "      <td>EUR</td>\n",
       "    </tr>\n",
       "    <tr>\n",
       "      <th>62881</th>\n",
       "      <td>2243032</td>\n",
       "      <td>1</td>\n",
       "      <td>2/20/2021</td>\n",
       "      <td>2/23/2021</td>\n",
       "      <td>331277</td>\n",
       "      <td>0</td>\n",
       "      <td>1613</td>\n",
       "      <td>2</td>\n",
       "      <td>CAD</td>\n",
       "    </tr>\n",
       "    <tr>\n",
       "      <th>62882</th>\n",
       "      <td>2243032</td>\n",
       "      <td>2</td>\n",
       "      <td>2/20/2021</td>\n",
       "      <td>2/23/2021</td>\n",
       "      <td>331277</td>\n",
       "      <td>0</td>\n",
       "      <td>1717</td>\n",
       "      <td>2</td>\n",
       "      <td>CAD</td>\n",
       "    </tr>\n",
       "    <tr>\n",
       "      <th>62883</th>\n",
       "      <td>2243032</td>\n",
       "      <td>3</td>\n",
       "      <td>2/20/2021</td>\n",
       "      <td>2/23/2021</td>\n",
       "      <td>331277</td>\n",
       "      <td>0</td>\n",
       "      <td>464</td>\n",
       "      <td>7</td>\n",
       "      <td>CAD</td>\n",
       "    </tr>\n",
       "  </tbody>\n",
       "</table>\n",
       "<p>62884 rows × 9 columns</p>\n",
       "</div>"
      ],
      "text/plain": [
       "       Order Number  Line Item Order Date Delivery Date  CustomerKey  \\\n",
       "0            366000          1   1/1/2016           NaN       265598   \n",
       "1            366001          1   1/1/2016     1/13/2016      1269051   \n",
       "2            366001          2   1/1/2016     1/13/2016      1269051   \n",
       "3            366002          1   1/1/2016     1/12/2016       266019   \n",
       "4            366002          2   1/1/2016     1/12/2016       266019   \n",
       "...             ...        ...        ...           ...          ...   \n",
       "62879       2243030          1  2/20/2021           NaN      1216913   \n",
       "62880       2243031          1  2/20/2021     2/24/2021       511229   \n",
       "62881       2243032          1  2/20/2021     2/23/2021       331277   \n",
       "62882       2243032          2  2/20/2021     2/23/2021       331277   \n",
       "62883       2243032          3  2/20/2021     2/23/2021       331277   \n",
       "\n",
       "       StoreKey  ProductKey  Quantity Currency Code  \n",
       "0            10        1304         1           CAD  \n",
       "1             0        1048         2           USD  \n",
       "2             0        2007         1           USD  \n",
       "3             0        1106         7           CAD  \n",
       "4             0         373         1           CAD  \n",
       "...         ...         ...       ...           ...  \n",
       "62879        43         632         3           USD  \n",
       "62880         0          98         4           EUR  \n",
       "62881         0        1613         2           CAD  \n",
       "62882         0        1717         2           CAD  \n",
       "62883         0         464         7           CAD  \n",
       "\n",
       "[62884 rows x 9 columns]"
      ]
     },
     "execution_count": 2,
     "metadata": {},
     "output_type": "execute_result"
    }
   ],
   "source": [
    "sales"
   ]
  },
  {
   "cell_type": "code",
   "execution_count": 5,
   "metadata": {},
   "outputs": [
    {
     "name": "stdout",
     "output_type": "stream",
     "text": [
      "CustomerKey     0\n",
      "Gender          0\n",
      "Name            0\n",
      "City            0\n",
      "State Code     10\n",
      "State           0\n",
      "Zip Code        0\n",
      "Country         0\n",
      "Continent       0\n",
      "Birthday        0\n",
      "dtype: int64\n",
      "ProductKey        0\n",
      "Product Name      0\n",
      "Brand             0\n",
      "Color             0\n",
      "Unit Cost USD     0\n",
      "Unit Price USD    0\n",
      "SubcategoryKey    0\n",
      "Subcategory       0\n",
      "CategoryKey       0\n",
      "Category          0\n",
      "dtype: int64\n",
      "Order Number         0\n",
      "Line Item            0\n",
      "Order Date           0\n",
      "Delivery Date    49719\n",
      "CustomerKey          0\n",
      "StoreKey             0\n",
      "ProductKey           0\n",
      "Quantity             0\n",
      "Currency Code        0\n",
      "dtype: int64\n",
      "StoreKey         0\n",
      "Country          0\n",
      "State            0\n",
      "Square Meters    1\n",
      "Open Date        0\n",
      "dtype: int64\n",
      "Date        0\n",
      "Currency    0\n",
      "Exchange    0\n",
      "dtype: int64\n"
     ]
    }
   ],
   "source": [
    "print(customer.isna().sum())\n",
    "print(product.isna().sum())\n",
    "print(sales.isna().sum())\n",
    "print(store.isna().sum())\n",
    "print(exra.isna().sum())\n",
    "\n"
   ]
  },
  {
   "cell_type": "code",
   "execution_count": 6,
   "metadata": {},
   "outputs": [],
   "source": [
    "customer.drop(columns=['State Code'], inplace = True)"
   ]
  },
  {
   "cell_type": "code",
   "execution_count": 14,
   "metadata": {},
   "outputs": [
    {
     "name": "stdout",
     "output_type": "stream",
     "text": [
      "Names and cities have been cleaned and state codes corrected. Saved to:\n"
     ]
    }
   ],
   "source": [
    "import pandas as pd\n",
    "import re\n",
    "\n",
    "\n",
    "def clean_text(text):\n",
    "    \n",
    "    cleaned_text = re.sub(r'[^a-zA-Z\\s]', '', text)\n",
    "    cleaned_text = cleaned_text.strip()\n",
    "    return cleaned_text\n",
    "\n",
    "customer['Name'] = customer['Name'].apply(clean_text)\n",
    "customer['City'] = customer['City'].apply(clean_text)\n",
    "customer['Country'] = customer['Country'].apply(clean_text)\n",
    "customer['Birthday']= pd.to_datetime(customer['Birthday'])\n",
    "#output_file_path = 'path/to/your/updated_customers_corrected.csv'\n",
    "customer.to_csv('customer.csv', index=False)\n",
    "\n",
    "\n"
   ]
  },
  {
   "cell_type": "code",
   "execution_count": 15,
   "metadata": {},
   "outputs": [],
   "source": [
    "##exchange rate\n",
    "exra['Date']=pd.to_datetime(exra['Date'])\n",
    "exra.to_csv('exchange_rate.csv', index=False)"
   ]
  },
  {
   "cell_type": "code",
   "execution_count": 21,
   "metadata": {},
   "outputs": [],
   "source": [
    "##store\n",
    "store['Square Meters']=store['Square Meters'].fillna(store['Square Meters'].mode()[0])\n",
    "store['Open Date']=pd.to_datetime(store['Open Date'])\n",
    "store.to_csv('storeup.csv', index=False)"
   ]
  },
  {
   "cell_type": "code",
   "execution_count": 23,
   "metadata": {},
   "outputs": [
    {
     "name": "stdout",
     "output_type": "stream",
     "text": [
      "StoreKey         0\n",
      "Country          0\n",
      "State            0\n",
      "Square Meters    0\n",
      "Open Date        0\n",
      "dtype: int64\n"
     ]
    }
   ],
   "source": [
    "print(store.isna().sum())"
   ]
  },
  {
   "cell_type": "code",
   "execution_count": 27,
   "metadata": {},
   "outputs": [],
   "source": [
    "##products\n",
    "product=product.dropna(subset=['Unit Cost USD'])\n",
    "product['Unit Cost USD'] = product['Unit Cost USD'].str.replace('$','').str.replace(',','').str.strip().astype(float)\n",
    "product=product.dropna(subset=['Unit Price USD'])\n",
    "product['Unit Price USD'] = product['Unit Price USD'].str.replace('$','').str.replace(',','').str.strip().astype(float)\n",
    "product.to_csv(\"productup.csv\",index = False)\n"
   ]
  },
  {
   "cell_type": "code",
   "execution_count": 30,
   "metadata": {},
   "outputs": [],
   "source": [
    "##sales\n",
    "sales['Delivery Date']=sales['Delivery Date'].fillna(sales['Delivery Date'].mode()[0])\n",
    "sales[['Order Date', 'Delivery Date']] = sales[['Order Date', 'Delivery Date']].apply(pd.to_datetime)\n",
    "sales.to_csv('salesuo.csv', index=False)\n"
   ]
  },
  {
   "cell_type": "code",
   "execution_count": 1,
   "metadata": {},
   "outputs": [
    {
     "name": "stdout",
     "output_type": "stream",
     "text": [
      "Requirement already satisfied: mysql-connector-python in c:\\users\\annie christina g\\appdata\\local\\programs\\python\\python312\\lib\\site-packages (9.0.0)\n"
     ]
    },
    {
     "name": "stderr",
     "output_type": "stream",
     "text": [
      "\n",
      "[notice] A new release of pip is available: 24.1.2 -> 24.2\n",
      "[notice] To update, run: python.exe -m pip install --upgrade pip\n"
     ]
    }
   ],
   "source": [
    "!pip install mysql-connector-python\n"
   ]
  },
  {
   "cell_type": "code",
   "execution_count": 2,
   "metadata": {},
   "outputs": [],
   "source": [
    "import pandas as pd\n",
    "import mysql.connector\n",
    "\n",
    "db = mysql.connector.connect(\n",
    "    host='localhost',\n",
    "    user='root',\n",
    "    password='7418736408',\n",
    "    database='redbus_data'\n",
    ")\n",
    "\n",
    "\n",
    "cursor = db.cursor()"
   ]
  },
  {
   "cell_type": "code",
   "execution_count": 10,
   "metadata": {},
   "outputs": [],
   "source": [
    "##customer\n",
    "cust = \"\"\"\n",
    "    CREATE TABLE customer (\n",
    "    CustomerKey INT PRIMARY KEY,\n",
    "    Gender VARCHAR(10),\n",
    "    Name VARCHAR(255),\n",
    "    City VARCHAR(255),\n",
    "    State VARCHAR(255),\n",
    "    Zip_Code VARCHAR(10),\n",
    "    Country VARCHAR(50),\n",
    "    Continent VARCHAR(50),\n",
    "    Birthday DATE\n",
    ");\n",
    "\"\"\"\n",
    "cursor.execute(cust)\n",
    "db.commit()"
   ]
  },
  {
   "cell_type": "code",
   "execution_count": 8,
   "metadata": {},
   "outputs": [],
   "source": [
    "##exchange\n",
    "\n",
    "exrat=\"\"\"\n",
    "    CREATE TABLE exchange(\n",
    "    Exchange_Date DATE,\n",
    "    Currency VARCHAR(10),\n",
    "    Exchange DECIMAL(10, 4)\n",
    ");\n",
    "\"\"\"\n",
    "cursor.execute(exrat)\n",
    "db.commit()"
   ]
  },
  {
   "cell_type": "code",
   "execution_count": 9,
   "metadata": {},
   "outputs": [],
   "source": [
    "file_path = 'C:/Users/ANNIE CHRISTINA G/Desktop/data spark/exchange_rate.csv'\n",
    "exchange_rates_df = pd.read_csv(file_path)\n",
    "\n",
    "\n",
    "exchange_rates_df.rename(columns={\"Date\": \"Exchange_Date\"}, inplace=True)\n",
    "\n"
   ]
  },
  {
   "cell_type": "code",
   "execution_count": 10,
   "metadata": {},
   "outputs": [],
   "source": [
    "for i, row in exchange_rates_df.iterrows():\n",
    "    sql = \"\"\"\n",
    "    INSERT INTO exchange (Exchange_Date, Currency, Exchange)\n",
    "    VALUES (%s, %s, %s)\n",
    "    \"\"\"\n",
    "    cursor.execute(sql, tuple(row))\n",
    "\n",
    "db.commit()\n"
   ]
  },
  {
   "cell_type": "code",
   "execution_count": 17,
   "metadata": {},
   "outputs": [],
   "source": [
    "##product\n",
    "\n",
    "prod=\"\"\"\n",
    "    CREATE TABLE products (\n",
    "    ProductKey INT PRIMARY KEY,\n",
    "    Product_Name VARCHAR(255),\n",
    "    Brand VARCHAR(255),\n",
    "    Color VARCHAR(50),\n",
    "    Unit_Cost_USD DECIMAL(10, 2),\n",
    "    Unit_Price_USD DECIMAL(10, 2),\n",
    "    SubcategoryKey INT,\n",
    "    Subcategory VARCHAR(255),\n",
    "    CategoryKey INT,\n",
    "    Category VARCHAR(255)\n",
    ");\n",
    "\"\"\"\n",
    "cursor.execute(prod)\n",
    "db.commit()"
   ]
  },
  {
   "cell_type": "code",
   "execution_count": 18,
   "metadata": {},
   "outputs": [],
   "source": [
    "#sales\n",
    "sale = \"\"\"\n",
    "    CREATE TABLE sales (\n",
    "    Order_Number INT,\n",
    "    Line_Item INT,\n",
    "    Order_Date DATE,\n",
    "    Delivery_Date DATE,\n",
    "    CustomerKey INT,\n",
    "    StoreKey INT,\n",
    "    ProductKey INT,\n",
    "    Quantity INT,\n",
    "    Currency_Code VARCHAR(10)\n",
    ");\n",
    "\"\"\"\n",
    "cursor.execute(sale)\n",
    "db.commit()\n"
   ]
  },
  {
   "cell_type": "code",
   "execution_count": 20,
   "metadata": {},
   "outputs": [],
   "source": [
    "##store\n",
    "\n",
    "stor = \"\"\"\n",
    "    CREATE TABLE stores (\n",
    "    StoreKey INT PRIMARY KEY,\n",
    "    Country VARCHAR(50),\n",
    "    State VARCHAR(100),\n",
    "    Square_Meters DECIMAL(10, 2),\n",
    "    Open_Date DATE\n",
    ");\n",
    "\"\"\"\n",
    "cursor.execute(stor)\n",
    "db.commit()\n",
    "\n"
   ]
  },
  {
   "cell_type": "code",
   "execution_count": 21,
   "metadata": {},
   "outputs": [],
   "source": [
    "##customer\n",
    "customers_df = pd.read_csv('C:/Users/ANNIE CHRISTINA G/Desktop/data spark/customer.csv')\n",
    "\n",
    "\n",
    "for i, row in customers_df.iterrows():\n",
    "    sql = \"\"\"\n",
    "    INSERT INTO customers (CustomerKey, Gender, Name, City, State, Zip_Code, Country, Continent, Birthday)\n",
    "    VALUES (%s, %s, %s, %s, %s, %s, %s, %s, %s)\n",
    "    \"\"\"\n",
    "    cursor.execute(sql, tuple(row))\n",
    "\n",
    "db.commit()\n",
    "\n"
   ]
  },
  {
   "cell_type": "code",
   "execution_count": 23,
   "metadata": {},
   "outputs": [],
   "source": [
    "##product\n",
    "product_df = pd.read_csv('C:/Users/ANNIE CHRISTINA G/Desktop/data spark/productup.csv')\n",
    "\n",
    "for i, row in product_df.iterrows():\n",
    "    sql = \"\"\"\n",
    "    INSERT INTO products (ProductKey, Product_Name, Brand, Color, Unit_Cost_USD, Unit_Price_USD, SubcategoryKey, Subcategory, CategoryKey, Category)\n",
    "    VALUES (%s, %s, %s, %s, %s, %s, %s, %s, %s, %s)\n",
    "    \"\"\"\n",
    "    cursor.execute(sql, tuple(row))\n",
    "\n",
    "db.commit()"
   ]
  },
  {
   "cell_type": "code",
   "execution_count": 3,
   "metadata": {},
   "outputs": [],
   "source": [
    "##exchage\n",
    "\n",
    "exchange_rates_df = pd.read_csv('C:/Users/ANNIE CHRISTINA G/Desktop/data spark/exchange_rate.csv')\n",
    "\n",
    "for i, row in exchange_rates_df.iterrows():\n",
    "    sql = \"\"\"\n",
    "    INSERT INTO exchange_rates (Date, Currency, Exchange)\n",
    "    VALUES (%s, %s, %s)\n",
    "    \"\"\"\n",
    "db.commit()"
   ]
  },
  {
   "cell_type": "markdown",
   "metadata": {},
   "source": []
  },
  {
   "cell_type": "code",
   "execution_count": 27,
   "metadata": {},
   "outputs": [],
   "source": [
    "##sales\n",
    "sales_df = pd.read_csv('C:/Users/ANNIE CHRISTINA G/Desktop/data spark/salesuo.csv')\n",
    " \n",
    "\n",
    "for i, row in sales_df.iterrows():\n",
    "    sql = \"\"\"\n",
    "    INSERT INTO sales (Order_Number, Line_Item, Order_Date, Delivery_Date, CustomerKey, StoreKey, ProductKey, Quantity, Currency_Code)\n",
    "    VALUES (%s, %s, %s, %s, %s, %s, %s, %s, %s)\n",
    "    \"\"\"\n",
    "    cursor.execute(sql, tuple(row))\n",
    "\n",
    "db.commit()"
   ]
  },
  {
   "cell_type": "code",
   "execution_count": 28,
   "metadata": {},
   "outputs": [],
   "source": [
    "##store\n",
    "stores_df = pd.read_csv('C:/Users/ANNIE CHRISTINA G/Desktop/data spark/storeup.csv')\n",
    " \n",
    "for i, row in stores_df.iterrows():\n",
    "    sql = \"\"\"\n",
    "    INSERT INTO stores (StoreKey, Country, State, Square_Meters, Open_Date)\n",
    "    VALUES (%s, %s, %s, %s, %s)\n",
    "    \"\"\"\n",
    "    cursor.execute(sql, tuple(row))\n",
    "\n",
    "db.commit()"
   ]
  }
 ],
 "metadata": {
  "kernelspec": {
   "display_name": "Python 3",
   "language": "python",
   "name": "python3"
  },
  "language_info": {
   "codemirror_mode": {
    "name": "ipython",
    "version": 3
   },
   "file_extension": ".py",
   "mimetype": "text/x-python",
   "name": "python",
   "nbconvert_exporter": "python",
   "pygments_lexer": "ipython3",
   "version": "3.12.4"
  }
 },
 "nbformat": 4,
 "nbformat_minor": 2
}
